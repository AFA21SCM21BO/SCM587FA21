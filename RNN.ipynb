{
  "nbformat": 4,
  "nbformat_minor": 0,
  "metadata": {
    "colab": {
      "name": "RNN.ipynb",
      "provenance": [],
      "collapsed_sections": [],
      "authorship_tag": "ABX9TyPAsaAeTTDTEsfmLWujuqse",
      "include_colab_link": true
    },
    "kernelspec": {
      "name": "python3",
      "display_name": "Python 3"
    },
    "language_info": {
      "name": "python"
    }
  },
  "cells": [
    {
      "cell_type": "markdown",
      "metadata": {
        "id": "view-in-github",
        "colab_type": "text"
      },
      "source": [
        "<a href=\"https://colab.research.google.com/github/AFA21SCM21BO/SCM587FA21/blob/main/RNN.ipynb\" target=\"_parent\"><img src=\"https://colab.research.google.com/assets/colab-badge.svg\" alt=\"Open In Colab\"/></a>"
      ]
    },
    {
      "cell_type": "code",
      "metadata": {
        "id": "jkCNsR6hn3Ky"
      },
      "source": [
        "import pandas as pd\n",
        "from sklearn.model_selection import train_test_split\n",
        "import tensorflow as tf\n",
        "from tensorflow import keras\n",
        "from tensorflow.keras import layers"
      ],
      "execution_count": 1,
      "outputs": []
    },
    {
      "cell_type": "code",
      "metadata": {
        "id": "aN2wR3mZoLBd"
      },
      "source": [
        "def importDataSet():\n",
        "  \n",
        "  # importing the merged dataset from spotify\n",
        "  spotifyData = pd.read_csv(\"spotify_merged_dataset.csv\")\n",
        "  tempDf = spotifyData\n",
        "\n",
        "  # converting boolean output column to int \n",
        "  tempDf[\"skip_2\"] = tempDf[\"skip_2\"]*1\n",
        "  \n",
        "  y = tempDf[\"skip_2\"].to_numpy()\n",
        "  # print(tempDf.info())\n",
        "  # Dropping output column and serial number column\n",
        "  tempDf = tempDf.drop(tempDf.columns[[0, 1,3,4]], axis=1)\n",
        "  # print(tempDf.info())\n",
        "\n",
        "  x = tempDf.to_numpy()\n",
        "  print(y)\n",
        "  return spotifyData,x,y"
      ],
      "execution_count": 2,
      "outputs": []
    },
    {
      "cell_type": "code",
      "metadata": {
        "colab": {
          "base_uri": "https://localhost:8080/"
        },
        "id": "T_b97DqUoL7x",
        "outputId": "16ed1f56-8412-4ec3-d82b-f8df52b5a81f"
      },
      "source": [
        "# Test train Split\n",
        "from tensorflow.keras.utils import to_categorical\n",
        "spotifyData,X,Y = importDataSet()\n",
        "X_train, X_test, y_train, y_test = train_test_split(X, Y, test_size=0.33, random_state=42)\n",
        "y_train = to_categorical(y_train, 2)\n",
        "y_test = to_categorical(y_test, 2)\n",
        "X_train,X_test = X_train / 255.0, X_test / 255.0"
      ],
      "execution_count": 3,
      "outputs": [
        {
          "output_type": "stream",
          "name": "stdout",
          "text": [
            "[1 1 1 ... 0 0 1]\n"
          ]
        }
      ]
    },
    {
      "cell_type": "code",
      "metadata": {
        "colab": {
          "base_uri": "https://localhost:8080/"
        },
        "id": "OQNcNdQZk-db",
        "outputId": "a7838a45-20c3-4a99-fbdd-3a8be1d1f1cc"
      },
      "source": [
        "X_train"
      ],
      "execution_count": 13,
      "outputs": [
        {
          "output_type": "execute_result",
          "data": {
            "text/plain": [
              "array([[ 7.84313725e-02, -3.91764706e+00, -3.91764706e+00,\n",
              "        -3.91764706e+00, -3.91764706e+00, -3.91764706e+00],\n",
              "       [ 7.84313725e-02,  1.52920230e-04,  2.01464471e-03,\n",
              "        -2.25725492e-02,  1.42871413e-04,  1.02767068e-03],\n",
              "       [ 3.92156863e-02, -3.91764706e+00, -3.91764706e+00,\n",
              "        -3.91764706e+00, -3.91764706e+00, -3.91764706e+00],\n",
              "       ...,\n",
              "       [ 7.84313725e-02,  1.93474141e-03,  3.10417367e-03,\n",
              "        -1.61764706e-02,  8.81899104e-04,  3.33089338e-04],\n",
              "       [ 7.84313725e-02, -3.91764706e+00, -3.91764706e+00,\n",
              "        -3.91764706e+00, -3.91764706e+00, -3.91764706e+00],\n",
              "       [ 7.84313725e-02,  4.31883773e-04,  2.63320395e-03,\n",
              "        -3.17294102e-02,  9.57136002e-04,  3.23699707e-04]])"
            ]
          },
          "metadata": {},
          "execution_count": 13
        }
      ]
    },
    {
      "cell_type": "code",
      "metadata": {
        "colab": {
          "base_uri": "https://localhost:8080/"
        },
        "id": "fC2kntlAoSAD",
        "outputId": "3e1e39ba-9c29-42bd-a7cf-6c55c8e453c9"
      },
      "source": [
        "X_train, X_test, y_train, y_test"
      ],
      "execution_count": 4,
      "outputs": [
        {
          "output_type": "execute_result",
          "data": {
            "text/plain": [
              "(array([[ 7.84313725e-02, -3.91764706e+00, -3.91764706e+00,\n",
              "         -3.91764706e+00, -3.91764706e+00, -3.91764706e+00],\n",
              "        [ 7.84313725e-02,  1.52920230e-04,  2.01464471e-03,\n",
              "         -2.25725492e-02,  1.42871413e-04,  1.02767068e-03],\n",
              "        [ 3.92156863e-02, -3.91764706e+00, -3.91764706e+00,\n",
              "         -3.91764706e+00, -3.91764706e+00, -3.91764706e+00],\n",
              "        ...,\n",
              "        [ 7.84313725e-02,  1.93474141e-03,  3.10417367e-03,\n",
              "         -1.61764706e-02,  8.81899104e-04,  3.33089338e-04],\n",
              "        [ 7.84313725e-02, -3.91764706e+00, -3.91764706e+00,\n",
              "         -3.91764706e+00, -3.91764706e+00, -3.91764706e+00],\n",
              "        [ 7.84313725e-02,  4.31883773e-04,  2.63320395e-03,\n",
              "         -3.17294102e-02,  9.57136002e-04,  3.23699707e-04]]),\n",
              " array([[ 7.84313725e-02,  2.30265692e-03,  2.73080924e-03,\n",
              "         -2.88745095e-02,  1.19587998e-04,  6.47597804e-04],\n",
              "        [ 6.27450980e-02, -3.91764706e+00, -3.91764706e+00,\n",
              "         -3.91764706e+00, -3.91764706e+00, -3.91764706e+00],\n",
              "        [ 7.84313725e-02,  9.75945592e-04,  3.05918595e-03,\n",
              "         -2.52549022e-02,  6.82402767e-04,  4.19962026e-04],\n",
              "        ...,\n",
              "        [ 7.84313725e-02,  3.43524592e-04,  2.33763246e-03,\n",
              "         -7.21960769e-03,  1.52194851e-04,  3.67353383e-03],\n",
              "        [ 7.84313725e-02, -3.91764706e+00, -3.91764706e+00,\n",
              "         -3.91764706e+00, -3.91764706e+00, -3.91764706e+00],\n",
              "        [ 7.84313725e-02,  2.84393902e-05,  3.25609259e-03,\n",
              "         -2.98078425e-02,  4.42136707e-04,  8.77946557e-04]]),\n",
              " array([[1., 0.],\n",
              "        [0., 1.],\n",
              "        [0., 1.],\n",
              "        ...,\n",
              "        [0., 1.],\n",
              "        [0., 1.],\n",
              "        [0., 1.]], dtype=float32),\n",
              " array([[0., 1.],\n",
              "        [0., 1.],\n",
              "        [1., 0.],\n",
              "        ...,\n",
              "        [0., 1.],\n",
              "        [1., 0.],\n",
              "        [1., 0.]], dtype=float32))"
            ]
          },
          "metadata": {},
          "execution_count": 4
        }
      ]
    },
    {
      "cell_type": "code",
      "metadata": {
        "colab": {
          "base_uri": "https://localhost:8080/"
        },
        "id": "f9T5mrJsrlqs",
        "outputId": "6a4ce007-e40e-4110-b318-7850a17fa638"
      },
      "source": [
        "X_train.shape,y_train.shape,X_test.shape,y_test.shape,"
      ],
      "execution_count": 5,
      "outputs": [
        {
          "output_type": "execute_result",
          "data": {
            "text/plain": [
              "((33500, 6), (33500, 2), (16500, 6), (16500, 2))"
            ]
          },
          "metadata": {},
          "execution_count": 5
        }
      ]
    },
    {
      "cell_type": "code",
      "metadata": {
        "id": "IBnk6-xNoVKu"
      },
      "source": [
        "model = keras.models.Sequential()\n",
        "model.add(layers.LSTM(units=10, activation='sigmoid',input_shape = (6,1)))\n",
        "model.add(layers.Dense(28, activation=\"sigmoid\")) \n",
        "model.add(layers.Dense(8, activation=\"sigmoid\")) \n",
        "model.add(layers.Dense(2,activation='sigmoid'))"
      ],
      "execution_count": 6,
      "outputs": []
    },
    {
      "cell_type": "code",
      "metadata": {
        "colab": {
          "base_uri": "https://localhost:8080/"
        },
        "id": "ztV32gtJofyV",
        "outputId": "af8006a4-5870-4df7-cfd7-fdba9edb404a"
      },
      "source": [
        "loss = keras.losses.CategoricalCrossentropy(from_logits='true')\n",
        "optim = keras.optimizers.Adamax(lr=0.01)\n",
        "metrics = [\"accuracy\"]"
      ],
      "execution_count": 7,
      "outputs": [
        {
          "output_type": "stream",
          "name": "stderr",
          "text": [
            "/usr/local/lib/python3.7/dist-packages/keras/optimizer_v2/adamax.py:90: UserWarning: The `lr` argument is deprecated, use `learning_rate` instead.\n",
            "  super(Adamax, self).__init__(name, **kwargs)\n"
          ]
        }
      ]
    },
    {
      "cell_type": "code",
      "metadata": {
        "colab": {
          "base_uri": "https://localhost:8080/"
        },
        "id": "zFZzuNq3ogdd",
        "outputId": "199a15a9-7f9d-4271-8584-1405934c92fa"
      },
      "source": [
        "model.compile(loss=loss,optimizer=optim , metrics='accuracy')\n",
        "model.summary()"
      ],
      "execution_count": 8,
      "outputs": [
        {
          "output_type": "stream",
          "name": "stdout",
          "text": [
            "Model: \"sequential\"\n",
            "_________________________________________________________________\n",
            " Layer (type)                Output Shape              Param #   \n",
            "=================================================================\n",
            " lstm (LSTM)                 (None, 10)                480       \n",
            "                                                                 \n",
            " dense (Dense)               (None, 28)                308       \n",
            "                                                                 \n",
            " dense_1 (Dense)             (None, 8)                 232       \n",
            "                                                                 \n",
            " dense_2 (Dense)             (None, 2)                 18        \n",
            "                                                                 \n",
            "=================================================================\n",
            "Total params: 1,038\n",
            "Trainable params: 1,038\n",
            "Non-trainable params: 0\n",
            "_________________________________________________________________\n"
          ]
        }
      ]
    },
    {
      "cell_type": "code",
      "metadata": {
        "colab": {
          "base_uri": "https://localhost:8080/"
        },
        "id": "_vC61m5_uoks",
        "outputId": "944fb4bd-75e4-40f7-e780-c96e36ed627f"
      },
      "source": [
        "y_train.shape"
      ],
      "execution_count": 9,
      "outputs": [
        {
          "output_type": "execute_result",
          "data": {
            "text/plain": [
              "(33500, 2)"
            ]
          },
          "metadata": {},
          "execution_count": 9
        }
      ]
    },
    {
      "cell_type": "code",
      "metadata": {
        "colab": {
          "base_uri": "https://localhost:8080/"
        },
        "id": "eIMNeyA9oi-t",
        "outputId": "972bfe2d-db86-4f64-b12c-08a21217672f"
      },
      "source": [
        "history=model.fit(X_train,y_train,batch_size=128,epochs=10,validation_data=(X_test,y_test),verbose=2)"
      ],
      "execution_count": 10,
      "outputs": [
        {
          "output_type": "stream",
          "name": "stdout",
          "text": [
            "Epoch 1/10\n"
          ]
        },
        {
          "output_type": "stream",
          "name": "stderr",
          "text": [
            "/usr/local/lib/python3.7/dist-packages/tensorflow/python/util/dispatch.py:1096: UserWarning: \"`categorical_crossentropy` received `from_logits=True`, but the `output` argument was produced by a sigmoid or softmax activation and thus does not represent logits. Was this intended?\"\n",
            "  return dispatch_target(*args, **kwargs)\n"
          ]
        },
        {
          "output_type": "stream",
          "name": "stdout",
          "text": [
            "262/262 - 2s - loss: 0.6942 - accuracy: 0.4993 - val_loss: 0.6932 - val_accuracy: 0.4958 - 2s/epoch - 9ms/step\n",
            "Epoch 2/10\n",
            "262/262 - 1s - loss: 0.6938 - accuracy: 0.5002 - val_loss: 0.6939 - val_accuracy: 0.5042 - 925ms/epoch - 4ms/step\n",
            "Epoch 3/10\n",
            "262/262 - 1s - loss: 0.6941 - accuracy: 0.5004 - val_loss: 0.6939 - val_accuracy: 0.4958 - 970ms/epoch - 4ms/step\n",
            "Epoch 4/10\n",
            "262/262 - 1s - loss: 0.6936 - accuracy: 0.5041 - val_loss: 0.6937 - val_accuracy: 0.5042 - 943ms/epoch - 4ms/step\n",
            "Epoch 5/10\n",
            "262/262 - 1s - loss: 0.6939 - accuracy: 0.5019 - val_loss: 0.6929 - val_accuracy: 0.5124 - 924ms/epoch - 4ms/step\n",
            "Epoch 6/10\n",
            "262/262 - 1s - loss: 0.6937 - accuracy: 0.4991 - val_loss: 0.6930 - val_accuracy: 0.5124 - 1s/epoch - 4ms/step\n",
            "Epoch 7/10\n",
            "262/262 - 1s - loss: 0.6937 - accuracy: 0.5026 - val_loss: 0.6930 - val_accuracy: 0.5042 - 973ms/epoch - 4ms/step\n",
            "Epoch 8/10\n",
            "262/262 - 1s - loss: 0.6934 - accuracy: 0.4998 - val_loss: 0.6932 - val_accuracy: 0.5042 - 967ms/epoch - 4ms/step\n",
            "Epoch 9/10\n",
            "262/262 - 1s - loss: 0.6933 - accuracy: 0.5027 - val_loss: 0.6930 - val_accuracy: 0.5124 - 937ms/epoch - 4ms/step\n",
            "Epoch 10/10\n",
            "262/262 - 1s - loss: 0.6932 - accuracy: 0.5048 - val_loss: 0.6938 - val_accuracy: 0.4958 - 1s/epoch - 4ms/step\n"
          ]
        }
      ]
    },
    {
      "cell_type": "code",
      "metadata": {
        "colab": {
          "base_uri": "https://localhost:8080/"
        },
        "id": "eIZaIGCqokuq",
        "outputId": "51872d41-3d96-4b1f-a1af-fc22b07f9253"
      },
      "source": [
        "pip install plot_keras_history\n"
      ],
      "execution_count": 11,
      "outputs": [
        {
          "output_type": "stream",
          "name": "stdout",
          "text": [
            "Requirement already satisfied: plot_keras_history in /usr/local/lib/python3.7/dist-packages (1.1.30)\n",
            "Requirement already satisfied: matplotlib in /usr/local/lib/python3.7/dist-packages (from plot_keras_history) (3.2.2)\n",
            "Requirement already satisfied: scipy in /usr/local/lib/python3.7/dist-packages (from plot_keras_history) (1.4.1)\n",
            "Requirement already satisfied: sanitize-ml-labels>=1.0.28 in /usr/local/lib/python3.7/dist-packages (from plot_keras_history) (1.0.29)\n",
            "Requirement already satisfied: pandas in /usr/local/lib/python3.7/dist-packages (from plot_keras_history) (1.1.5)\n",
            "Requirement already satisfied: compress-json in /usr/local/lib/python3.7/dist-packages (from sanitize-ml-labels>=1.0.28->plot_keras_history) (1.0.4)\n",
            "Requirement already satisfied: numpy>=1.11 in /usr/local/lib/python3.7/dist-packages (from matplotlib->plot_keras_history) (1.19.5)\n",
            "Requirement already satisfied: pyparsing!=2.0.4,!=2.1.2,!=2.1.6,>=2.0.1 in /usr/local/lib/python3.7/dist-packages (from matplotlib->plot_keras_history) (3.0.6)\n",
            "Requirement already satisfied: python-dateutil>=2.1 in /usr/local/lib/python3.7/dist-packages (from matplotlib->plot_keras_history) (2.8.2)\n",
            "Requirement already satisfied: cycler>=0.10 in /usr/local/lib/python3.7/dist-packages (from matplotlib->plot_keras_history) (0.11.0)\n",
            "Requirement already satisfied: kiwisolver>=1.0.1 in /usr/local/lib/python3.7/dist-packages (from matplotlib->plot_keras_history) (1.3.2)\n",
            "Requirement already satisfied: six>=1.5 in /usr/local/lib/python3.7/dist-packages (from python-dateutil>=2.1->matplotlib->plot_keras_history) (1.15.0)\n",
            "Requirement already satisfied: pytz>=2017.2 in /usr/local/lib/python3.7/dist-packages (from pandas->plot_keras_history) (2018.9)\n"
          ]
        }
      ]
    },
    {
      "cell_type": "code",
      "metadata": {
        "colab": {
          "base_uri": "https://localhost:8080/",
          "height": 385
        },
        "id": "X5aRQSEZ3svq",
        "outputId": "0e5ee1f1-6bfa-4848-ec9c-11f66ffbabba"
      },
      "source": [
        "from plot_keras_history import show_history, plot_history\n",
        "import matplotlib.pyplot as plt\n",
        "show_history(history)\n",
        "plot_history(history, path=\"standard.png\")\n",
        "plt.close()"
      ],
      "execution_count": 12,
      "outputs": [
        {
          "output_type": "display_data",
          "data": {
            "image/png": "[encoded data removed]",
            "text/plain": [
              "<Figure size 720x360 with 2 Axes>"
            ]
          },
          "metadata": {
            "needs_background": "light"
          }
        }
      ]
    },
    {
      "cell_type": "code",
      "metadata": {
        "id": "lasVHND6U4z3"
      },
      "source": [
        ""
      ],
      "execution_count": null,
      "outputs": []
    }
  ]
}